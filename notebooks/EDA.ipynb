{
 "cells": [
  {
   "cell_type": "code",
   "execution_count": 1,
   "metadata": {},
   "outputs": [],
   "source": [
    "# install and imports\n",
    "# imports\n",
    "import requests\n",
    "import os\n",
    "import pandas as pd\n",
    "import numpy as np\n",
    "from pprint import pprint\n",
    "from sqlalchemy import create_engine\n",
    "import sqlite3\n",
    "from sqlite3 import Error"
   ]
  },
  {
   "cell_type": "markdown",
   "metadata": {},
   "source": [
    "# Foursquare"
   ]
  },
  {
   "cell_type": "markdown",
   "metadata": {},
   "source": [
    "Send a request to Foursquare with a small radius (1000m) with the location of your choice"
   ]
  },
  {
   "cell_type": "code",
   "execution_count": 2,
   "metadata": {},
   "outputs": [],
   "source": [
    "FOURSQUARE_API_KEY = os.environ[\"FOURSQUARE_API_KEY\"]\n",
    "\n",
    "url = \"https://api.foursquare.com/v3/places/search?\"\n",
    "\n",
    "headers_fsq = {\n",
    "    \"accept\": \"application/json\",\n",
    "    \"Authorization\": FOURSQUARE_API_KEY\n",
    "}\n",
    "\n",
    "params_fsq={ 'll' : \"49.2827,-123.1207\",\n",
    "        'radius' : '1000',\n",
    "        'limit' : '50',\n",
    "        'fields' : 'rating,name,categories,fsq_id,location,distance'\n",
    "       }\n",
    "\n",
    "response_fsq = requests.get(url, headers=headers_fsq, params=params_fsq)"
   ]
  },
  {
   "cell_type": "markdown",
   "metadata": {},
   "source": [
    "Parse through the response to get the POI details you want (rating, name, location, etc)"
   ]
  },
  {
   "cell_type": "code",
   "execution_count": 3,
   "metadata": {},
   "outputs": [],
   "source": [
    "request_dict_fsq = response_fsq.json()\n",
    "results_fsq = {'name' : [],\n",
    "           'categories' : [],\n",
    "           'fsq_id' : [],\n",
    "           'location' : [],\n",
    "           'distance' : [],\n",
    "            'rating' : []}\n",
    "\n",
    "for place in request_dict_fsq['results']:\n",
    "    for key in results_fsq.keys():\n",
    "        results_fsq[key].append(place[key])\n",
    "        \n",
    "results_df_fsq = pd.DataFrame.from_dict(results_fsq)"
   ]
  },
  {
   "cell_type": "markdown",
   "metadata": {},
   "source": [
    "Put your parsed results into a DataFrame"
   ]
  },
  {
   "cell_type": "code",
   "execution_count": 4,
   "metadata": {},
   "outputs": [],
   "source": [
    "def tidy_df(dirty_df, columns, api):\n",
    "    \"\"\"\n",
    "    Function to tidy nested dataframes\n",
    "    Currently only working on categories\n",
    "    \n",
    "    :params:\n",
    "    dirty_df (pandas dataframe): dataframe to be cleaned\n",
    "    columns (list[str]): column names for categories\n",
    "    api (str): name of api to clean\n",
    "    \n",
    "    :return:\n",
    "    cat_df (pandas dataframe): category dataframe cleaned and tidy\n",
    "    \n",
    "    :todo:\n",
    "    Make it work without passing api or columns regardless of which api dataframe we pass\n",
    "    \"\"\"\n",
    "    cats = dirty_df.pop('categories')\n",
    "    cat_df = pd.DataFrame(columns=columns)\n",
    "    cat_index=0\n",
    "    for cat_l in cats:\n",
    "        for cat_d in cat_l:\n",
    "            if api.lower() == 'fsq':\n",
    "                df = pd.DataFrame({'id':cat_d['id'], 'name':cat_d['name'],\n",
    "                                   'icon': cat_d['icon']['prefix']+cat_d['icon']['suffix']},\n",
    "                                  index=[cat_index])\n",
    "            elif api.lower() == 'yelp':\n",
    "                df = pd.DataFrame({'alias': cat_d['alias'], 'title': cat_d['title']}, index=[cat_index])\n",
    "            elif api.lower() == 'google':\n",
    "                pass #df = pd.DataFrame({},index=cat_index)\n",
    "            else:\n",
    "                return -1\n",
    "            cat_df = pd.concat([cat_df, df], ignore_index = False)\n",
    "            cat_df.rename({cat_df.index[-1]:cat_index}, inplace = True) \n",
    "        cat_index += 1\n",
    "    return cat_df"
   ]
  },
  {
   "cell_type": "code",
   "execution_count": null,
   "metadata": {},
   "outputs": [],
   "source": []
  },
  {
   "cell_type": "code",
   "execution_count": 5,
   "metadata": {},
   "outputs": [],
   "source": [
    "# Clean & Tidy: Category and Location columns\n",
    "cat_df_fsq = tidy_df(results_df_fsq, columns=['id','name','icon'], api='fsq')\n",
    "loc_fsq = [pd.DataFrame.from_dict([d for d in results_df_fsq.pop('location')])]\n",
    "\n",
    "# Add back Category and Location columns\n",
    "# Make sure data is 'tidydata'\n",
    "results_tidy_fsq = results_df_fsq.join(loc_fsq)\n",
    "results_tidy_fsq = results_tidy_fsq.join(cat_df_fsq, how='right', lsuffix='_l', rsuffix='_r')\n",
    "results_tidy_fsq = results_tidy_fsq.rename({'name_l':'name','id':'category_id','name_r':'category_name','icon':'category_icon'}, axis='columns').reset_index(drop=True)\n",
    "results_tidy_fsq = results_tidy_fsq.replace(r'^\\s*$', np.nan, regex=True)"
   ]
  },
  {
   "cell_type": "markdown",
   "metadata": {},
   "source": [
    "# Yelp"
   ]
  },
  {
   "cell_type": "code",
   "execution_count": 6,
   "metadata": {},
   "outputs": [],
   "source": [
    "YELP_API_KEY = '8Zg6MNbVnuhfn6hKVOPqMhQxjbsxg5hsuFSLGimVWaJPtwoDycIJuBIu0bL_RwMHppDoI67TUzqnTfmjCdt69jXHEwkrgsFCKXb6VyK6aF2ACwXdPhi2jhB80lA2Y3Yx'#os.environ[\"YELP_API_KEY\"]\n",
    "\n",
    "url = \"https://api.yelp.com/v3/businesses/search\"\n",
    "\n",
    "headers_yp = {\n",
    "    \"accept\": \"application/json\",\n",
    "    \"Authorization\": f'Bearer {YELP_API_KEY}'\n",
    "}\n",
    "params_yp = {'latitude' : \"49.2827\",\n",
    "        'longitude' : '-123.1207',\n",
    "        'radius' : '1000',\n",
    "        'limit' : '50'\n",
    "       }"
   ]
  },
  {
   "cell_type": "markdown",
   "metadata": {},
   "source": [
    "Send a request with the same location paramaters (location, radius, etc)"
   ]
  },
  {
   "cell_type": "code",
   "execution_count": 7,
   "metadata": {},
   "outputs": [
    {
     "name": "stdout",
     "output_type": "stream",
     "text": [
      "200\n"
     ]
    }
   ],
   "source": [
    "response_yelp = requests.get(url, headers=headers_yp, params=params_yp)\n",
    "print(response_yelp.status_code)"
   ]
  },
  {
   "cell_type": "markdown",
   "metadata": {},
   "source": [
    "Parse through your result and get POI details"
   ]
  },
  {
   "cell_type": "code",
   "execution_count": 8,
   "metadata": {},
   "outputs": [],
   "source": [
    "request_dict_yp = response_yelp.json()\n",
    "results_yp = {'name' : [],\n",
    "           'categories' : [],\n",
    "           'id' : [],\n",
    "           'location' : [],\n",
    "           'distance' : [],\n",
    "           'rating' : []\n",
    "          }\n",
    "\n",
    "for place in request_dict_yp['businesses']:\n",
    "    for key in results_yp.keys():\n",
    "        results_yp[key].append(place[key])\n",
    "        \n",
    "results_df_yp = pd.DataFrame.from_dict(results_yp)"
   ]
  },
  {
   "cell_type": "code",
   "execution_count": 9,
   "metadata": {},
   "outputs": [],
   "source": [
    "columns = list(results_df_yp['categories'][0][0].keys())\n",
    "cat_df_yp = tidy_df(results_df_yp, columns=columns, api='yelp')"
   ]
  },
  {
   "cell_type": "markdown",
   "metadata": {},
   "source": [
    "Put your parsed results into a DataFrame"
   ]
  },
  {
   "cell_type": "code",
   "execution_count": 10,
   "metadata": {},
   "outputs": [],
   "source": [
    "#Clean and Tidy Categories and Location\n",
    "results_df_yp = pd.DataFrame.from_dict(results_yp)\n",
    "cat_df_yp = tidy_df(results_df_yp, columns=columns, api='yelp')\n",
    "loc_yp = [pd.DataFrame.from_dict([d for d in results_df_yp.pop('location')])]\n",
    "\n",
    "\n",
    "# Add back Category and Location columns\n",
    "# Make sure data is 'tidydata'\n",
    "results_tidy_yp = results_df_yp.join(loc_yp)\n",
    "results_tidy_yp = results_tidy_yp.join(cat_df_yp)\n",
    "results_tidy_yp = results_tidy_yp.replace(r'^\\s*$', np.nan, regex=True)\n",
    "results_tidy_yp = results_tidy_yp.rename({'id':'yp_id'})\n",
    "results_tidy_yp['zip_code'] = results_tidy_yp['zip_code'].astype(\"string\")\n"
   ]
  },
  {
   "cell_type": "code",
   "execution_count": null,
   "metadata": {},
   "outputs": [],
   "source": []
  },
  {
   "cell_type": "markdown",
   "metadata": {},
   "source": [
    "# Google (stretch)"
   ]
  },
  {
   "cell_type": "markdown",
   "metadata": {},
   "source": [
    "Use the same process as the first two APIs"
   ]
  },
  {
   "cell_type": "markdown",
   "metadata": {},
   "source": [
    "# Database"
   ]
  },
  {
   "cell_type": "markdown",
   "metadata": {},
   "source": [
    "Put all your results in an SQLite3 database (remember, SQLite stores its databases as files in your local machine - make sure to create your database in your project's data/ directory!)"
   ]
  },
  {
   "cell_type": "code",
   "execution_count": 11,
   "metadata": {},
   "outputs": [],
   "source": [
    "# Working with permissions due to 'attempt to write a readonly database' error\n",
    "# \n",
    "os.chdir('/Users/calebward/LL_mini_project_II/data/')\n",
    "os.chmod('/Users/calebward/LL_mini_project_II/data/', 0o774)\n",
    "\n",
    "def create_connection(path):\n",
    "    \"\"\"\n",
    "    Create connection to database\n",
    "    :param:\n",
    "    path (str): path to database (Note: in this case just the file name)\n",
    "    :return:\n",
    "    connection (sqlite3.connect): connection to database\n",
    "    \"\"\"\n",
    "    connection = None\n",
    "    try:\n",
    "        connection = sqlite3.connect(path)\n",
    "        print(\"Connection Success\")\n",
    "    except Error as e:\n",
    "        print(f\"Error: '{e}'\")\n",
    "\n",
    "    return connection\n",
    "\n",
    "\n",
    "def execute_query(connection, sql):\n",
    "    \"\"\"\n",
    "    Run a SQL query (INSERT, ETC)\n",
    "    :param:\n",
    "    connection (sqlite): connection to server\n",
    "    sql (str): The SQL query to execute\n",
    "    :return:\n",
    "    NONE\n",
    "    \"\"\"\n",
    "    cursor = connection.cursor()\n",
    "    try:\n",
    "        cursor.execute(sql)\n",
    "        connection.commit()\n",
    "        print(\"Query Success\")\n",
    "    except Error as e:\n",
    "        print(f\"Error: '{e}'\")\n",
    "\n",
    "def execute_read_query(connection, sql):\n",
    "    \"\"\"\n",
    "    Run a SQL read query (SELECT, ETC)\n",
    "    :param:\n",
    "    connection (sqlite): connection to server\n",
    "    sql (str): The SQL query to execute\n",
    "    :return:\n",
    "    result (pd.Dataframe): A Pandas dataframe of your result\n",
    "    \"\"\"\n",
    "    cursor = connection.cursor()\n",
    "    result = None\n",
    "    try:\n",
    "        cursor.execute(sql)\n",
    "        result = pd.read_sql(sql, connection)\n",
    "        return result\n",
    "    except Error as e:\n",
    "        print(f\"Error: '{e}'\")\n",
    "        \n",
    "def write_apidata_to_db(table_name, connection, data):\n",
    "    \"\"\"\n",
    "    Write to Database using pandas instead of SQLite3\n",
    "    :param:\n",
    "    tabe_name (str): name of the table\n",
    "    connection (sqlite): connection to server\n",
    "    data (pandas.DataFrame): the Data to write\n",
    "    :return:\n",
    "    None\n",
    "    \"\"\"\n",
    "    data.to_sql(name = table_name, con = connection,\n",
    "                index_label = 'key', if_exists='append')"
   ]
  },
  {
   "cell_type": "code",
   "execution_count": 12,
   "metadata": {},
   "outputs": [],
   "source": [
    "create_fsq_table = \"\"\"\n",
    "CREATE TABLE IF NOT EXISTS fsq_poi (\n",
    "    id INTEGER PRIMARY KEY AUTOINCREMENT,\n",
    "    name TEXT NOT NULL,\n",
    "    fsq_id TEXT,\n",
    "    distance INTEGER,\n",
    "    address TEXT\n",
    "    country TEXT\n",
    "    cross_street, TEXT\n",
    "    formatted_address TEXT\n",
    "    locality TEXT\n",
    "    neighborhood TEXT\n",
    "    locality TEXT\n",
    "    postcode TEXT,\n",
    "    region TEXT,\n",
    "    address_extended TEXT\n",
    "    category_id INTEGER,\n",
    "    category_name TEXT,\n",
    "    category_icon TEXT,\n",
    "    rating FLOAT\n",
    ");\n",
    "\"\"\"\n",
    "\n",
    "create_yelp_table = \"\"\"\n",
    "CREATE TABLE IF NOT EXISTS yelp_poi (\n",
    "    id INTEGER PRIMARY KEY AUTOINCREMENT,\n",
    "    name TEXT NOT NULL,\n",
    "    yp_id TEXT,\n",
    "    distance FLOAT,\n",
    "    rating FLOAT,\n",
    "    display_address TEXT,\n",
    "    address1 TEXT,\n",
    "    address2 TEXT,\n",
    "    address3 TEXT,\n",
    "    city TEXT,\n",
    "    zip_code TEXT,\n",
    "    country TEXT,\n",
    "    state TEXT,\n",
    "    alias TEXT,\n",
    "    title TEXT\n",
    "    );\n",
    "\"\"\"\n"
   ]
  },
  {
   "cell_type": "code",
   "execution_count": 13,
   "metadata": {},
   "outputs": [
    {
     "name": "stdout",
     "output_type": "stream",
     "text": [
      "Connection Success\n",
      "Query Success\n",
      "Query Success\n"
     ]
    }
   ],
   "source": [
    "conn = create_connection('mini_db.sqlite')\n",
    "execute_query(conn, create_fsq_table)\n",
    "execute_query(conn, create_yelp_table)"
   ]
  },
  {
   "cell_type": "markdown",
   "metadata": {},
   "source": [
    "Get the top 10 restaurants according to their rating"
   ]
  },
  {
   "cell_type": "code",
   "execution_count": 15,
   "metadata": {},
   "outputs": [
    {
     "data": {
      "text/html": [
       "<div>\n",
       "<style scoped>\n",
       "    .dataframe tbody tr th:only-of-type {\n",
       "        vertical-align: middle;\n",
       "    }\n",
       "\n",
       "    .dataframe tbody tr th {\n",
       "        vertical-align: top;\n",
       "    }\n",
       "\n",
       "    .dataframe thead th {\n",
       "        text-align: right;\n",
       "    }\n",
       "</style>\n",
       "<table border=\"1\" class=\"dataframe\">\n",
       "  <thead>\n",
       "    <tr style=\"text-align: right;\">\n",
       "      <th></th>\n",
       "      <th>name</th>\n",
       "      <th>rating</th>\n",
       "    </tr>\n",
       "  </thead>\n",
       "  <tbody>\n",
       "    <tr>\n",
       "      <th>0</th>\n",
       "      <td>Manoush'eh</td>\n",
       "      <td>10.00</td>\n",
       "    </tr>\n",
       "    <tr>\n",
       "      <th>1</th>\n",
       "      <td>Incognito Coffee</td>\n",
       "      <td>10.00</td>\n",
       "    </tr>\n",
       "    <tr>\n",
       "      <th>2</th>\n",
       "      <td>Gotham Steakhouse &amp; Cocktail Bar</td>\n",
       "      <td>10.00</td>\n",
       "    </tr>\n",
       "    <tr>\n",
       "      <th>3</th>\n",
       "      <td>Commodore Ballroom</td>\n",
       "      <td>9.89</td>\n",
       "    </tr>\n",
       "    <tr>\n",
       "      <th>4</th>\n",
       "      <td>Victoria's Secret</td>\n",
       "      <td>9.78</td>\n",
       "    </tr>\n",
       "    <tr>\n",
       "      <th>5</th>\n",
       "      <td>Sephora</td>\n",
       "      <td>9.78</td>\n",
       "    </tr>\n",
       "    <tr>\n",
       "      <th>6</th>\n",
       "      <td>Hawksworth Restaurant</td>\n",
       "      <td>9.78</td>\n",
       "    </tr>\n",
       "    <tr>\n",
       "      <th>7</th>\n",
       "      <td>The Orpheum</td>\n",
       "      <td>9.67</td>\n",
       "    </tr>\n",
       "    <tr>\n",
       "      <th>8</th>\n",
       "      <td>Le Crocodile Restaurant</td>\n",
       "      <td>9.67</td>\n",
       "    </tr>\n",
       "    <tr>\n",
       "      <th>9</th>\n",
       "      <td>Indigo - Robson</td>\n",
       "      <td>9.67</td>\n",
       "    </tr>\n",
       "    <tr>\n",
       "      <th>10</th>\n",
       "      <td>Abercrombie &amp; Fitch</td>\n",
       "      <td>9.67</td>\n",
       "    </tr>\n",
       "  </tbody>\n",
       "</table>\n",
       "</div>"
      ],
      "text/plain": [
       "                                name  rating\n",
       "0                         Manoush'eh   10.00\n",
       "1                   Incognito Coffee   10.00\n",
       "2   Gotham Steakhouse & Cocktail Bar   10.00\n",
       "3                 Commodore Ballroom    9.89\n",
       "4                  Victoria's Secret    9.78\n",
       "5                            Sephora    9.78\n",
       "6              Hawksworth Restaurant    9.78\n",
       "7                        The Orpheum    9.67\n",
       "8            Le Crocodile Restaurant    9.67\n",
       "9                    Indigo - Robson    9.67\n",
       "10               Abercrombie & Fitch    9.67"
      ]
     },
     "execution_count": 15,
     "metadata": {},
     "output_type": "execute_result"
    }
   ],
   "source": [
    "def select_top_POI(data, n = 10, keep='all'):\n",
    "    \"\"\"\n",
    "    Find the top 10 rated points of interest from different datasets with their ratings normalized between sets.\n",
    "    :params:\n",
    "    data (list[pandas.DataFrames]): A list of all the Dateframe to search through\n",
    "    n (int): How many POI to return\n",
    "    keep (str): Determines how to deal with ties that extended the data frame beyond 'n'\n",
    "                'all' show ties\n",
    "                'first' show first POI when there is a tie\n",
    "                'last' show last POI when there is a tie\n",
    "    \n",
    "    :return:\n",
    "    rating_df (pandas.Dataframe): A dataframe with the name and ratings with the index as rank\n",
    "    \"\"\"\n",
    "    rating_df = pd.DataFrame()\n",
    "    for df in data:\n",
    "        df['rating'] = df['rating'].apply(lambda x : (x/df['rating'].max())*10)\n",
    "        rating_df = pd.concat([rating_df,df[['name','rating']]])\n",
    "    return rating_df.drop_duplicates().nlargest(n,'rating',keep=keep).sort_values(['rating','name'],ascending=False).reset_index(drop=True)\n",
    "\n",
    "\n",
    "pd.options.display.float_format = \"{:,.2f}\".format\n",
    "select_top_POI([results_tidy_yp, results_tidy_fsq])\n"
   ]
  },
  {
   "cell_type": "code",
   "execution_count": null,
   "metadata": {},
   "outputs": [],
   "source": [
    "#SQL Query to test on working DB\n",
    "top_ten_POI_SQL = \"\"\"\n",
    "SELCT poi.name as name, category.rating as rating\n",
    "FROM poi\n",
    "JOIN poi_category\n",
    "WHERE poi.poi_id = poi_category.poi_id\n",
    "JOIN category\n",
    "WHERE category.category_id = poi_category.category_id\n",
    "ORDER BY category.rating DESC\n",
    "LIMIT 10;\n",
    "\"\"\"\n"
   ]
  },
  {
   "cell_type": "markdown",
   "metadata": {},
   "source": [
    "# Travelling Salesman Problem (stretch)"
   ]
  },
  {
   "cell_type": "markdown",
   "metadata": {},
   "source": [
    "If you have time, follow the steps in the [ortools tutorial](https://developers.google.com/optimization/routing/tsp) using Google's [Directions API](https://developers.google.com/maps/documentation/directions/start)."
   ]
  },
  {
   "cell_type": "code",
   "execution_count": null,
   "metadata": {},
   "outputs": [],
   "source": []
  }
 ],
 "metadata": {
  "kernelspec": {
   "display_name": "Python 3 (ipykernel)",
   "language": "python",
   "name": "python3"
  },
  "language_info": {
   "codemirror_mode": {
    "name": "ipython",
    "version": 3
   },
   "file_extension": ".py",
   "mimetype": "text/x-python",
   "name": "python",
   "nbconvert_exporter": "python",
   "pygments_lexer": "ipython3",
   "version": "3.9.12"
  }
 },
 "nbformat": 4,
 "nbformat_minor": 4
}
